{
 "cells": [
  {
   "cell_type": "markdown",
   "id": "1d94a8a2",
   "metadata": {},
   "source": [
    "# Water Quality Prediction using Random Forest\n",
    "This notebook builds a model to forecast BSK5 using lagged pollutant features."
   ]
  },
  {
   "cell_type": "code",
   "execution_count": null,
   "id": "f93f8177",
   "metadata": {},
   "outputs": [],
   "source": [
    "import pandas as pd\n",
    "import numpy as np \n",
    "import matplotlib.pyplot as plt\n",
    "from sklearn.ensemble import RandomForestRegressor\n",
    "from sklearn.metrics import mean_squared_error, r2_score\n"
   ]
  },
  {
   "cell_type": "markdown",
   "id": "ec73b38c",
   "metadata": {},
   "source": [
    "## Step 1: Load and Explore Dataset"
   ]
  },
  {
   "cell_type": "code",
   "execution_count": null,
   "id": "69a4f01f",
   "metadata": {},
   "outputs": [],
   "source": [
    "df = pd.read_csv('../data/water_quality.csv', sep=';')\n",
    "df.head()\n"
   ]
  },
  {
   "cell_type": "markdown",
   "id": "d1cb184d",
   "metadata": {},
   "source": [
    "## Step 2: Parse Dates and Sort Data"
   ]
  },
  {
   "cell_type": "code",
   "execution_count": null,
   "id": "7600b5bd",
   "metadata": {},
   "outputs": [],
   "source": [
    "df['date'] = pd.to_datetime(df['date'], format='%d.%m.%Y')\n",
    "df = df.sort_values(['id', 'date']).reset_index(drop=True)\n"
   ]
  },
  {
   "cell_type": "markdown",
   "id": "a8ad51e6",
   "metadata": {},
   "source": [
    "## Step 3: Handle Missing Values"
   ]
  },
  {
   "cell_type": "code",
   "execution_count": null,
   "id": "b56cff6b",
   "metadata": {},
   "outputs": [],
   "source": [
    "df.fillna(method='ffill', inplace=True)"
   ]
  },
  {
   "cell_type": "markdown",
   "id": "8621b33e",
   "metadata": {},
   "source": [
    "## Step 4: Add Date-based Features"
   ]
  },
  {
   "cell_type": "code",
   "execution_count": null,
   "id": "00a7b321",
   "metadata": {},
   "outputs": [],
   "source": [
    "df['month'] = df['date'].dt.month\n",
    "df['year'] = df['date'].dt.year\n"
   ]
  },
  {
   "cell_type": "markdown",
   "id": "2d86148f",
   "metadata": {},
   "source": [
    "## Step 5: Create Lag Features"
   ]
  },
  {
   "cell_type": "code",
   "execution_count": null,
   "id": "5ee2ae72",
   "metadata": {},
   "outputs": [],
   "source": [
    "lag_days = [1, 2, 3]\n",
    "feature_cols = ['NH4', 'Suspended', 'O2', 'NO3', 'NO2', 'SO4', 'PO4', 'CL']\n",
    "\n",
    "for lag in lag_days:\n",
    "    for col in feature_cols:\n",
    "        df[f'{col}_lag{lag}'] = df.groupby('id')[col].shift(lag)\n"
   ]
  },
  {
   "cell_type": "markdown",
   "id": "35eb703f",
   "metadata": {},
   "source": [
    "## Step 6: Drop NaNs after Lagging"
   ]
  },
  {
   "cell_type": "code",
   "execution_count": null,
   "id": "a5ce27ec",
   "metadata": {},
   "outputs": [],
   "source": [
    "df.dropna(inplace=True)"
   ]
  },
  {
   "cell_type": "markdown",
   "id": "69e4e501",
   "metadata": {},
   "source": [
    "## Step 7: Define Features and Target"
   ]
  },
  {
   "cell_type": "code",
   "execution_count": null,
   "id": "ce748731",
   "metadata": {},
   "outputs": [],
   "source": [
    "X = df[[f'{col}_lag{lag}' for lag in lag_days for col in feature_cols] + ['id', 'month', 'year']]\n",
    "y = df['BSK5']\n"
   ]
  },
  {
   "cell_type": "markdown",
   "id": "65001db5",
   "metadata": {},
   "source": [
    "## Step 8: Time-Based Train/Test Split"
   ]
  },
  {
   "cell_type": "code",
   "execution_count": null,
   "id": "7ed8ea52",
   "metadata": {},
   "outputs": [],
   "source": [
    "train_size = int(len(df) * 0.8)\n",
    "X_train, X_test = X.iloc[:train_size], X.iloc[train_size:]\n",
    "y_train, y_test = y.iloc[:train_size], y.iloc[train_size:]\n"
   ]
  },
  {
   "cell_type": "markdown",
   "id": "0f5cebed",
   "metadata": {},
   "source": [
    "## Step 9: Train Random Forest Regressor"
   ]
  },
  {
   "cell_type": "code",
   "execution_count": null,
   "id": "f0649042",
   "metadata": {},
   "outputs": [],
   "source": [
    "model = RandomForestRegressor(n_estimators=200, random_state=42)\n",
    "model.fit(X_train, y_train)\n"
   ]
  },
  {
   "cell_type": "markdown",
   "id": "771a380b",
   "metadata": {},
   "source": [
    "## Step 10: Make Predictions and Evaluate Model"
   ]
  },
  {
   "cell_type": "code",
   "execution_count": null,
   "id": "fcf833fe",
   "metadata": {},
   "outputs": [],
   "source": [
    "y_pred = model.predict(X_test)\n",
    "mse = mean_squared_error(y_test, y_pred)\n",
    "r2 = r2_score(y_test, y_pred)\n",
    "\n",
    "print(f\"Mean Squared Error (MSE): {mse:.3f}\")\n",
    "print(f\"R2 Score: {r2:.3f}\")\n"
   ]
  },
  {
   "cell_type": "markdown",
   "id": "be3a013b",
   "metadata": {},
   "source": [
    "## Step 11: Plot Actual vs Predicted BSK5"
   ]
  },
  {
   "cell_type": "code",
   "execution_count": null,
   "id": "625a3c02",
   "metadata": {},
   "outputs": [],
   "source": [
    "plt.figure(figsize=(12, 6))\n",
    "plt.plot(y_test.values, label='Actual BSK5', color='blue')\n",
    "plt.plot(y_pred, label='Predicted BSK5', color='red')\n",
    "plt.xlabel('Test Samples')\n",
    "plt.ylabel('BSK5')\n",
    "plt.title('Water Quality Forecasting (BSK5)')\n",
    "plt.legend()\n",
    "plt.grid()\n",
    "plt.tight_layout()\n",
    "plt.show()\n"
   ]
  }
 ],
 "metadata": {
  "kernelspec": {
   "display_name": "Python 3",
   "name": "python3"
  }
 },
 "nbformat": 4,
 "nbformat_minor": 5
}